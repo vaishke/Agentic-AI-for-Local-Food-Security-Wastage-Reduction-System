{
  "cells": [
    {
      "cell_type": "code",
      "id": "Xh6GW30yaZ16Frcl3beu6avX",
      "metadata": {
        "tags": [],
        "id": "Xh6GW30yaZ16Frcl3beu6avX",
        "colab": {
          "base_uri": "https://localhost:8080/"
        },
        "outputId": "2f92ce2f-3134-460e-a171-fdda79997679"
      },
      "source": [
        "%pip install -q langchain langchain-google-vertexai google-cloud-aiplatform google-auth pandas"
      ],
      "execution_count": null,
      "outputs": [
        {
          "output_type": "stream",
          "name": "stdout",
          "text": [
            "\u001b[2K   \u001b[90m━━━━━━━━━━━━━━━━━━━━━━━━━━━━━━━━━━━━━━━━\u001b[0m \u001b[32m104.9/104.9 kB\u001b[0m \u001b[31m2.2 MB/s\u001b[0m eta \u001b[36m0:00:00\u001b[0m\n",
            "\u001b[2K   \u001b[90m━━━━━━━━━━━━━━━━━━━━━━━━━━━━━━━━━━━━━━━━\u001b[0m \u001b[32m449.6/449.6 kB\u001b[0m \u001b[31m10.0 MB/s\u001b[0m eta \u001b[36m0:00:00\u001b[0m\n",
            "\u001b[2K   \u001b[90m━━━━━━━━━━━━━━━━━━━━━━━━━━━━━━━━━━━━━━━━\u001b[0m \u001b[32m42.8/42.8 MB\u001b[0m \u001b[31m47.6 MB/s\u001b[0m eta \u001b[36m0:00:00\u001b[0m\n",
            "\u001b[2K   \u001b[90m━━━━━━━━━━━━━━━━━━━━━━━━━━━━━━━━━━━━━━━━\u001b[0m \u001b[32m44.7/44.7 kB\u001b[0m \u001b[31m4.7 MB/s\u001b[0m eta \u001b[36m0:00:00\u001b[0m\n",
            "\u001b[?25h\u001b[31mERROR: pip's dependency resolver does not currently take into account all the packages that are installed. This behaviour is the source of the following dependency conflicts.\n",
            "cudf-cu12 25.6.0 requires pyarrow<20.0.0a0,>=14.0.0; platform_machine == \"x86_64\", but you have pyarrow 21.0.0 which is incompatible.\n",
            "pylibcudf-cu12 25.6.0 requires pyarrow<20.0.0a0,>=14.0.0; platform_machine == \"x86_64\", but you have pyarrow 21.0.0 which is incompatible.\u001b[0m\u001b[31m\n",
            "\u001b[0m"
          ]
        }
      ]
    },
    {
      "cell_type": "code",
      "source": [
        "from google.colab import files\n",
        "import os\n",
        "import json"
      ],
      "metadata": {
        "id": "7_qajkknadhx"
      },
      "id": "7_qajkknadhx",
      "execution_count": null,
      "outputs": []
    },
    {
      "cell_type": "code",
      "source": [
        "print(\"Please upload your GCP service-account JSON key file (recommended: a project-level service account with Vertex AI permissions).\")\n",
        "uploaded = files.upload()"
      ],
      "metadata": {
        "colab": {
          "base_uri": "https://localhost:8080/",
          "height": 89
        },
        "id": "O1mBrPVxa7RB",
        "outputId": "a869117a-ee56-4f46-e553-97738bbbf93c"
      },
      "id": "O1mBrPVxa7RB",
      "execution_count": null,
      "outputs": [
        {
          "output_type": "stream",
          "name": "stdout",
          "text": [
            "Please upload your GCP service-account JSON key file (recommended: a project-level service account with Vertex AI permissions).\n"
          ]
        },
        {
          "output_type": "display_data",
          "data": {
            "text/plain": [
              "<IPython.core.display.HTML object>"
            ],
            "text/html": [
              "\n",
              "     <input type=\"file\" id=\"files-56e2ff21-5c50-44d2-ae41-8c09cea2c4c6\" name=\"files[]\" multiple disabled\n",
              "        style=\"border:none\" />\n",
              "     <output id=\"result-56e2ff21-5c50-44d2-ae41-8c09cea2c4c6\">\n",
              "      Upload widget is only available when the cell has been executed in the\n",
              "      current browser session. Please rerun this cell to enable.\n",
              "      </output>\n",
              "      <script>// Copyright 2017 Google LLC\n",
              "//\n",
              "// Licensed under the Apache License, Version 2.0 (the \"License\");\n",
              "// you may not use this file except in compliance with the License.\n",
              "// You may obtain a copy of the License at\n",
              "//\n",
              "//      http://www.apache.org/licenses/LICENSE-2.0\n",
              "//\n",
              "// Unless required by applicable law or agreed to in writing, software\n",
              "// distributed under the License is distributed on an \"AS IS\" BASIS,\n",
              "// WITHOUT WARRANTIES OR CONDITIONS OF ANY KIND, either express or implied.\n",
              "// See the License for the specific language governing permissions and\n",
              "// limitations under the License.\n",
              "\n",
              "/**\n",
              " * @fileoverview Helpers for google.colab Python module.\n",
              " */\n",
              "(function(scope) {\n",
              "function span(text, styleAttributes = {}) {\n",
              "  const element = document.createElement('span');\n",
              "  element.textContent = text;\n",
              "  for (const key of Object.keys(styleAttributes)) {\n",
              "    element.style[key] = styleAttributes[key];\n",
              "  }\n",
              "  return element;\n",
              "}\n",
              "\n",
              "// Max number of bytes which will be uploaded at a time.\n",
              "const MAX_PAYLOAD_SIZE = 100 * 1024;\n",
              "\n",
              "function _uploadFiles(inputId, outputId) {\n",
              "  const steps = uploadFilesStep(inputId, outputId);\n",
              "  const outputElement = document.getElementById(outputId);\n",
              "  // Cache steps on the outputElement to make it available for the next call\n",
              "  // to uploadFilesContinue from Python.\n",
              "  outputElement.steps = steps;\n",
              "\n",
              "  return _uploadFilesContinue(outputId);\n",
              "}\n",
              "\n",
              "// This is roughly an async generator (not supported in the browser yet),\n",
              "// where there are multiple asynchronous steps and the Python side is going\n",
              "// to poll for completion of each step.\n",
              "// This uses a Promise to block the python side on completion of each step,\n",
              "// then passes the result of the previous step as the input to the next step.\n",
              "function _uploadFilesContinue(outputId) {\n",
              "  const outputElement = document.getElementById(outputId);\n",
              "  const steps = outputElement.steps;\n",
              "\n",
              "  const next = steps.next(outputElement.lastPromiseValue);\n",
              "  return Promise.resolve(next.value.promise).then((value) => {\n",
              "    // Cache the last promise value to make it available to the next\n",
              "    // step of the generator.\n",
              "    outputElement.lastPromiseValue = value;\n",
              "    return next.value.response;\n",
              "  });\n",
              "}\n",
              "\n",
              "/**\n",
              " * Generator function which is called between each async step of the upload\n",
              " * process.\n",
              " * @param {string} inputId Element ID of the input file picker element.\n",
              " * @param {string} outputId Element ID of the output display.\n",
              " * @return {!Iterable<!Object>} Iterable of next steps.\n",
              " */\n",
              "function* uploadFilesStep(inputId, outputId) {\n",
              "  const inputElement = document.getElementById(inputId);\n",
              "  inputElement.disabled = false;\n",
              "\n",
              "  const outputElement = document.getElementById(outputId);\n",
              "  outputElement.innerHTML = '';\n",
              "\n",
              "  const pickedPromise = new Promise((resolve) => {\n",
              "    inputElement.addEventListener('change', (e) => {\n",
              "      resolve(e.target.files);\n",
              "    });\n",
              "  });\n",
              "\n",
              "  const cancel = document.createElement('button');\n",
              "  inputElement.parentElement.appendChild(cancel);\n",
              "  cancel.textContent = 'Cancel upload';\n",
              "  const cancelPromise = new Promise((resolve) => {\n",
              "    cancel.onclick = () => {\n",
              "      resolve(null);\n",
              "    };\n",
              "  });\n",
              "\n",
              "  // Wait for the user to pick the files.\n",
              "  const files = yield {\n",
              "    promise: Promise.race([pickedPromise, cancelPromise]),\n",
              "    response: {\n",
              "      action: 'starting',\n",
              "    }\n",
              "  };\n",
              "\n",
              "  cancel.remove();\n",
              "\n",
              "  // Disable the input element since further picks are not allowed.\n",
              "  inputElement.disabled = true;\n",
              "\n",
              "  if (!files) {\n",
              "    return {\n",
              "      response: {\n",
              "        action: 'complete',\n",
              "      }\n",
              "    };\n",
              "  }\n",
              "\n",
              "  for (const file of files) {\n",
              "    const li = document.createElement('li');\n",
              "    li.append(span(file.name, {fontWeight: 'bold'}));\n",
              "    li.append(span(\n",
              "        `(${file.type || 'n/a'}) - ${file.size} bytes, ` +\n",
              "        `last modified: ${\n",
              "            file.lastModifiedDate ? file.lastModifiedDate.toLocaleDateString() :\n",
              "                                    'n/a'} - `));\n",
              "    const percent = span('0% done');\n",
              "    li.appendChild(percent);\n",
              "\n",
              "    outputElement.appendChild(li);\n",
              "\n",
              "    const fileDataPromise = new Promise((resolve) => {\n",
              "      const reader = new FileReader();\n",
              "      reader.onload = (e) => {\n",
              "        resolve(e.target.result);\n",
              "      };\n",
              "      reader.readAsArrayBuffer(file);\n",
              "    });\n",
              "    // Wait for the data to be ready.\n",
              "    let fileData = yield {\n",
              "      promise: fileDataPromise,\n",
              "      response: {\n",
              "        action: 'continue',\n",
              "      }\n",
              "    };\n",
              "\n",
              "    // Use a chunked sending to avoid message size limits. See b/62115660.\n",
              "    let position = 0;\n",
              "    do {\n",
              "      const length = Math.min(fileData.byteLength - position, MAX_PAYLOAD_SIZE);\n",
              "      const chunk = new Uint8Array(fileData, position, length);\n",
              "      position += length;\n",
              "\n",
              "      const base64 = btoa(String.fromCharCode.apply(null, chunk));\n",
              "      yield {\n",
              "        response: {\n",
              "          action: 'append',\n",
              "          file: file.name,\n",
              "          data: base64,\n",
              "        },\n",
              "      };\n",
              "\n",
              "      let percentDone = fileData.byteLength === 0 ?\n",
              "          100 :\n",
              "          Math.round((position / fileData.byteLength) * 100);\n",
              "      percent.textContent = `${percentDone}% done`;\n",
              "\n",
              "    } while (position < fileData.byteLength);\n",
              "  }\n",
              "\n",
              "  // All done.\n",
              "  yield {\n",
              "    response: {\n",
              "      action: 'complete',\n",
              "    }\n",
              "  };\n",
              "}\n",
              "\n",
              "scope.google = scope.google || {};\n",
              "scope.google.colab = scope.google.colab || {};\n",
              "scope.google.colab._files = {\n",
              "  _uploadFiles,\n",
              "  _uploadFilesContinue,\n",
              "};\n",
              "})(self);\n",
              "</script> "
            ]
          },
          "metadata": {}
        },
        {
          "output_type": "stream",
          "name": "stdout",
          "text": [
            "Saving food-donation-agent-76f6c6f468d6.json to food-donation-agent-76f6c6f468d6 (1).json\n"
          ]
        }
      ]
    },
    {
      "cell_type": "code",
      "source": [
        "if len(uploaded) == 0:\n",
        "    raise SystemExit(\"No file uploaded. Upload service account JSON and re-run this cell.\")"
      ],
      "metadata": {
        "id": "u61WOc5wd3M2"
      },
      "id": "u61WOc5wd3M2",
      "execution_count": null,
      "outputs": []
    },
    {
      "cell_type": "code",
      "source": [
        "sa_file = list(uploaded.keys())[0]\n",
        "SA_KEY_PATH = f\"/content/{sa_file}\"\n",
        "os.environ[\"GOOGLE_APPLICATION_CREDENTIALS\"] = SA_KEY_PATH\n",
        "print(\"Set GOOGLE_APPLICATION_CREDENTIALS =\", SA_KEY_PATH)"
      ],
      "metadata": {
        "colab": {
          "base_uri": "https://localhost:8080/"
        },
        "id": "r4ndKY58bAUk",
        "outputId": "08f20e02-a9b4-4f58-9404-dc2615f898f2"
      },
      "id": "r4ndKY58bAUk",
      "execution_count": null,
      "outputs": [
        {
          "output_type": "stream",
          "name": "stdout",
          "text": [
            "Set GOOGLE_APPLICATION_CREDENTIALS = /content/food-donation-agent-76f6c6f468d6 (1).json\n"
          ]
        }
      ]
    },
    {
      "cell_type": "code",
      "source": [
        "PROJECT_ID = input(\"Enter your GCP project id (e.g. my-project-123): \").strip()\n",
        "REGION = input(\"Enter Vertex AI region (e.g. us-central1) [default us-central1]: \").strip() or \"us-central1\""
      ],
      "metadata": {
        "colab": {
          "base_uri": "https://localhost:8080/"
        },
        "id": "wm2USsUDbCpM",
        "outputId": "61a652e2-47fb-402d-f8d1-9a038ff671c3"
      },
      "id": "wm2USsUDbCpM",
      "execution_count": null,
      "outputs": [
        {
          "name": "stdout",
          "output_type": "stream",
          "text": [
            "Enter your GCP project id (e.g. my-project-123): food-donation-agent\n",
            "Enter Vertex AI region (e.g. us-central1) [default us-central1]: us-central1\n"
          ]
        }
      ]
    },
    {
      "cell_type": "code",
      "source": [
        "os.environ[\"GCLOUD_PROJECT\"] = PROJECT_ID\n",
        "os.environ[\"GCP_PROJECT\"] = PROJECT_ID"
      ],
      "metadata": {
        "id": "XP15UE0kbpFs"
      },
      "id": "XP15UE0kbpFs",
      "execution_count": null,
      "outputs": []
    },
    {
      "cell_type": "code",
      "source": [
        "from google.cloud import aiplatform\n",
        "aiplatform.init(project=PROJECT_ID, location=REGION)\n",
        "print(\"Vertex AI initialized for project:\", PROJECT_ID, \"region:\", REGION)"
      ],
      "metadata": {
        "colab": {
          "base_uri": "https://localhost:8080/"
        },
        "id": "A3IbYAWZbrJc",
        "outputId": "d49eb9d5-a66a-45ef-b1f1-b2c55ae4d274"
      },
      "id": "A3IbYAWZbrJc",
      "execution_count": null,
      "outputs": [
        {
          "output_type": "stream",
          "name": "stdout",
          "text": [
            "Vertex AI initialized for project: food-donation-agent region: us-central1\n"
          ]
        }
      ]
    },
    {
      "cell_type": "code",
      "source": [
        "# ===============================\n",
        "# 4️⃣ Import LangChain + VertexAI LLM\n",
        "# ===============================\n",
        "try:\n",
        "    from langchain_google_vertexai import VertexAI\n",
        "except Exception:\n",
        "    from langchain_google_vertexai.llms import VertexAI\n",
        "\n",
        "model_name = input(\"Vertex model name (default text-bison@001): \").strip() or \"text-bison@001\"\n",
        "llm = VertexAI(model_name=model_name)\n",
        "print(\"LLM wrapper created for model:\", model_name)"
      ],
      "metadata": {
        "colab": {
          "base_uri": "https://localhost:8080/"
        },
        "id": "UzAgKHE-bwo0",
        "outputId": "de5af36b-c1ea-4329-c99a-7ea7ce428a36"
      },
      "id": "UzAgKHE-bwo0",
      "execution_count": null,
      "outputs": [
        {
          "output_type": "stream",
          "name": "stdout",
          "text": [
            "Vertex model name (default text-bison@001): gemini-2.5-pro\n",
            "LLM wrapper created for model: gemini-2.5-pro\n"
          ]
        }
      ]
    },
    {
      "cell_type": "code",
      "source": [
        "# ===============================\n",
        "# 5️⃣ Global \"database\" dictionary\n",
        "# ===============================\n",
        "donation_entries = {}"
      ],
      "metadata": {
        "id": "4l-9JWPDbzuT"
      },
      "id": "4l-9JWPDbzuT",
      "execution_count": null,
      "outputs": []
    },
    {
      "cell_type": "code",
      "source": [
        "import uuid\n",
        "from datetime import datetime, timedelta\n",
        "import re"
      ],
      "metadata": {
        "id": "7swrSjN1b0gv"
      },
      "id": "7swrSjN1b0gv",
      "execution_count": null,
      "outputs": []
    },
    {
      "cell_type": "code",
      "source": [
        "# ===============================\n",
        "# 6️⃣ Define donation intake tool\n",
        "# ===============================\n",
        "try:\n",
        "    from langchain_core.tools import tool as tool_decorator\n",
        "except Exception:\n",
        "    from langchain.tools import tool as tool_decorator"
      ],
      "metadata": {
        "id": "U_1ed5vbb1-8"
      },
      "id": "U_1ed5vbb1-8",
      "execution_count": null,
      "outputs": []
    },
    {
      "cell_type": "code",
      "source": [
        "from langchain.output_parsers import PydanticOutputParser\n",
        "from langchain.prompts import PromptTemplate\n",
        "from pydantic import BaseModel, Field\n",
        "\n",
        "class DonationDetails(BaseModel):\n",
        "    item_name: str = Field(..., description=\"Name of the donated food item\")\n",
        "    quantity: int = Field(..., description=\"Quantity donated\")\n",
        "    unit: str = Field(..., description=\"Unit of measurement such as kg, liters, pcs\")\n",
        "    expiry_days: int = Field(..., description=\"Days remaining before expiry\")"
      ],
      "metadata": {
        "id": "nPCTSQH5g7zV"
      },
      "id": "nPCTSQH5g7zV",
      "execution_count": null,
      "outputs": []
    },
    {
      "cell_type": "code",
      "source": [
        "parser = PydanticOutputParser(pydantic_object=DonationDetails)\n",
        "\n",
        "prompt = PromptTemplate(\n",
        "    template=(\n",
        "        \"Extract structured donation details from the following message:\\n\"\n",
        "        \"{text}\\n\\n\"\n",
        "        \"{format_instructions}\"\n",
        "    ),\n",
        "    input_variables=[\"text\"],\n",
        "    partial_variables={\"format_instructions\": parser.get_format_instructions()},\n",
        ")"
      ],
      "metadata": {
        "id": "3zYBsE35hA9Z"
      },
      "id": "3zYBsE35hA9Z",
      "execution_count": null,
      "outputs": []
    },
    {
      "cell_type": "code",
      "source": [
        "@tool_decorator(\"donation_intake\", return_direct=True)\n",
        "def donation_intake(text: str) -> str:\n",
        "    \"\"\"Extracts and stores donation details using Vertex AI structured output.\"\"\"\n",
        "    global donation_entries\n",
        "\n",
        "    # Build extraction chain\n",
        "    chain = prompt | llm | parser\n",
        "\n",
        "    try:\n",
        "        details = chain.invoke({\"text\": text})\n",
        "    except Exception as e:\n",
        "        return f\"Could not parse donation: {str(e)}\"\n",
        "\n",
        "    # Compute expiry date\n",
        "    expiry_date = datetime.now() + timedelta(days=details.expiry_days)\n",
        "    expiry_date_str = expiry_date.strftime(\"%Y-%m-%d\")\n",
        "    days_left = details.expiry_days\n",
        "\n",
        "    # Urgency and status calculation (new logic)\n",
        "    if days_left <= 0:\n",
        "        urgency_score, status = 0, \"expired\"\n",
        "    elif days_left == 1:\n",
        "        urgency_score, status = 5, \"available\"\n",
        "    elif 2 <= days_left <= 3:\n",
        "        urgency_score, status = 4, \"available\"\n",
        "    elif 4 <= days_left <= 5:\n",
        "        urgency_score, status = 3, \"available\"\n",
        "    elif 6 <= days_left <= 7:\n",
        "        urgency_score, status = 2, \"available\"\n",
        "    else:\n",
        "        urgency_score, status = 1, \"available\"\n",
        "\n",
        "    # Assign unique entry ID\n",
        "    entry_id = str(uuid.uuid4())\n",
        "\n",
        "    # Store in global dict\n",
        "    donation_entries[entry_id] = {\n",
        "        \"entry_id\": entry_id,\n",
        "        \"item_name\": details.item_name,\n",
        "        \"quantity\": details.quantity,\n",
        "        \"unit\": details.unit,\n",
        "        \"expiry_date\": expiry_date_str,\n",
        "        \"days_left\": days_left,\n",
        "        \"urgency_score\": urgency_score,\n",
        "        \"status\": status,\n",
        "    }\n",
        "\n",
        "    # Response\n",
        "    return (\n",
        "        f\"Donation registered! ID: {entry_id}, \"\n",
        "        f\"Item: {details.item_name}, Quantity: {details.quantity} {details.unit}, \"\n",
        "        f\"Expiry in {days_left} days (Urgency: {urgency_score}/5).\"\n",
        "    )\n",
        "\n",
        "print(\"Donation Intake tool ready!\")"
      ],
      "metadata": {
        "colab": {
          "base_uri": "https://localhost:8080/"
        },
        "id": "I65vccVocxz3",
        "outputId": "04474063-b6bd-4f52-e90f-b3b1b39e618c"
      },
      "id": "I65vccVocxz3",
      "execution_count": null,
      "outputs": [
        {
          "output_type": "stream",
          "name": "stdout",
          "text": [
            "Donation Intake tool ready!\n"
          ]
        }
      ]
    },
    {
      "cell_type": "code",
      "source": [
        "donation_entries = {}"
      ],
      "metadata": {
        "id": "MJbdSYuGijiW"
      },
      "id": "MJbdSYuGijiW",
      "execution_count": null,
      "outputs": []
    },
    {
      "cell_type": "code",
      "source": [
        "# Install dependencies\n",
        "%pip install -q streamlit pyngrok"
      ],
      "metadata": {
        "id": "RLmAHFsmnPyv"
      },
      "id": "RLmAHFsmnPyv",
      "execution_count": null,
      "outputs": []
    },
    {
      "cell_type": "code",
      "source": [
        "%%writefile donation_agent_app.py\n",
        "import streamlit as st\n",
        "import uuid\n",
        "from datetime import datetime, timedelta\n",
        "\n",
        "# ========== LangChain & VertexAI setup ==========\n",
        "try:\n",
        "    from langchain_google_vertexai import VertexAI\n",
        "except Exception:\n",
        "    from langchain_google_vertexai.llms import VertexAI\n",
        "\n",
        "from google.cloud import aiplatform\n",
        "from langchain.output_parsers import PydanticOutputParser\n",
        "from langchain.prompts import PromptTemplate\n",
        "from pydantic import BaseModel, Field\n",
        "from langchain_core.tools import tool as tool_decorator\n",
        "from langchain.agents import initialize_agent, AgentType\n",
        "\n",
        "\n",
        "# ========== Vertex AI Initialization ==========\n",
        "PROJECT_ID = \"food-donation-agent\"\n",
        "REGION = \"us-central1\"\n",
        "\n",
        "aiplatform.init(project=PROJECT_ID, location=REGION)\n",
        "\n",
        "# ========== Vertex AI Model ==========\n",
        "llm = VertexAI(model_name=\"gemini-2.5-pro\")\n",
        "\n",
        "# ========== Global store ==========\n",
        "donation_entries = {}\n",
        "\n",
        "\n",
        "# ========== Data Model ==========\n",
        "class DonationDetails(BaseModel):\n",
        "    item_name: str = Field(..., description=\"Name of the donated food item\")\n",
        "    quantity: int = Field(..., description=\"Quantity donated\")\n",
        "    unit: str = Field(..., description=\"Unit of measurement such as kg, liters, pcs\")\n",
        "    expiry_days: int = Field(..., description=\"Days remaining before expiry\")\n",
        "\n",
        "\n",
        "# ========== Parser + Prompt ==========\n",
        "parser = PydanticOutputParser(pydantic_object=DonationDetails)\n",
        "prompt = PromptTemplate(\n",
        "    template=(\n",
        "        \"Extract structured donation details from the following message:\\n\"\n",
        "        \"{text}\\n\\n\"\n",
        "        \"{format_instructions}\"\n",
        "    ),\n",
        "    input_variables=[\"text\"],\n",
        "    partial_variables={\"format_instructions\": parser.get_format_instructions()},\n",
        ")\n",
        "\n",
        "\n",
        "# ========== Tool ==========\n",
        "@tool_decorator(\"donation_intake\", return_direct=True)\n",
        "def donation_intake(text: str) -> str:\n",
        "    \"\"\"Extracts and stores donation details using Vertex AI structured output.\"\"\"\n",
        "    global donation_entries\n",
        "    chain = prompt | llm | parser\n",
        "\n",
        "    try:\n",
        "        details = chain.invoke({\"text\": text})\n",
        "    except Exception as e:\n",
        "        return f\"Could not parse donation: {str(e)}\"\n",
        "\n",
        "    expiry_date = datetime.now() + timedelta(days=details.expiry_days)\n",
        "    expiry_date_str = expiry_date.strftime(\"%Y-%m-%d\")\n",
        "    days_left = details.expiry_days\n",
        "\n",
        "    if days_left <= 0:\n",
        "        urgency_score, status = 0, \"expired\"\n",
        "    elif days_left == 1:\n",
        "        urgency_score, status = 5, \"available\"\n",
        "    elif 2 <= days_left <= 3:\n",
        "        urgency_score, status = 4, \"available\"\n",
        "    elif 4 <= days_left <= 5:\n",
        "        urgency_score, status = 3, \"available\"\n",
        "    elif 6 <= days_left <= 7:\n",
        "        urgency_score, status = 2, \"available\"\n",
        "    else:\n",
        "        urgency_score, status = 1, \"available\"\n",
        "\n",
        "    entry_id = str(uuid.uuid4())\n",
        "    donation_entries[entry_id] = {\n",
        "        \"entry_id\": entry_id,\n",
        "        \"item_name\": details.item_name,\n",
        "        \"quantity\": details.quantity,\n",
        "        \"unit\": details.unit,\n",
        "        \"expiry_date\": expiry_date_str,\n",
        "        \"days_left\": days_left,\n",
        "        \"urgency_score\": urgency_score,\n",
        "        \"status\": status,\n",
        "    }\n",
        "\n",
        "    return (\n",
        "        f\"Donation registered! ID: {entry_id}, \"\n",
        "        f\"Item: {details.item_name}, Quantity: {details.quantity} {details.unit}, \"\n",
        "        f\"Expiry in {days_left} days (Urgency: {urgency_score}/5).\"\n",
        "    )\n",
        "\n",
        "\n",
        "# ========== Agent ==========\n",
        "agent = initialize_agent(\n",
        "    tools=[donation_intake],\n",
        "    llm=llm,\n",
        "    agent=AgentType.ZERO_SHOT_REACT_DESCRIPTION,\n",
        "    verbose=True,\n",
        ")\n",
        "\n",
        "\n",
        "# ========== Streamlit UI ==========\n",
        "def send_message():\n",
        "    user_input = st.session_state.user_input\n",
        "    if user_input:\n",
        "        st.session_state.messages.append({\"role\": \"user\", \"text\": user_input})\n",
        "        try:\n",
        "            response = agent.run(user_input)\n",
        "        except Exception as e:\n",
        "            response = f\"⚠️ Agent error: {e}\"\n",
        "        st.session_state.messages.append({\"role\": \"agent\", \"text\": response})\n",
        "        st.session_state.user_input = \"\"\n",
        "\n",
        "\n",
        "def run_chat_app():\n",
        "    st.title(\"🍽️ Food Donation Chat Agent\")\n",
        "\n",
        "    if \"messages\" not in st.session_state:\n",
        "        st.session_state.messages = []\n",
        "\n",
        "    for msg in st.session_state.messages:\n",
        "        speaker = \"You\" if msg[\"role\"] == \"user\" else \"Agent\"\n",
        "        st.markdown(f\"**{speaker}:** {msg['text']}\")\n",
        "\n",
        "    st.text_input(\n",
        "        \"Type your donation message here:\",\n",
        "        key=\"user_input\",\n",
        "        on_change=send_message\n",
        "    )\n",
        "\n",
        "\n",
        "run_chat_app()"
      ],
      "metadata": {
        "colab": {
          "base_uri": "https://localhost:8080/"
        },
        "id": "RQoyfUdfe_dC",
        "outputId": "fd343d27-15e6-4ef4-ca53-adb9209a2a3d"
      },
      "id": "RQoyfUdfe_dC",
      "execution_count": null,
      "outputs": [
        {
          "output_type": "stream",
          "name": "stdout",
          "text": [
            "Overwriting donation_agent_app.py\n"
          ]
        }
      ]
    },
    {
      "cell_type": "code",
      "source": [
        "!streamlit run donation_agent_app.py --server.port 8501 &>/dev/null &"
      ],
      "metadata": {
        "id": "W0EEUCPOphPt"
      },
      "id": "W0EEUCPOphPt",
      "execution_count": null,
      "outputs": []
    },
    {
      "cell_type": "code",
      "source": [
        "!pip install pyngrok"
      ],
      "metadata": {
        "id": "bZ3doKbWheHR"
      },
      "id": "bZ3doKbWheHR",
      "execution_count": null,
      "outputs": []
    },
    {
      "cell_type": "code",
      "source": [
        "!ngrok authtoken YOUR_AUTH_TOKEN"
      ],
      "metadata": {
        "id": "02NSwqhPhhPA"
      },
      "id": "02NSwqhPhhPA",
      "execution_count": null,
      "outputs": []
    },
    {
      "cell_type": "code",
      "source": [
        "from pyngrok import ngrok\n",
        "\n",
        "# Start ngrok tunnel to Streamlit port 8501\n",
        "public_url = ngrok.connect(8501)\n",
        "print(\"Your Streamlit public URL:\", public_url)\n"
      ],
      "metadata": {
        "colab": {
          "base_uri": "https://localhost:8080/"
        },
        "id": "uEZ-6hp_m30V",
        "outputId": "ef1fb34a-659c-45db-9d73-d43fbcd9d0a4"
      },
      "id": "uEZ-6hp_m30V",
      "execution_count": null,
      "outputs": [
        {
          "output_type": "stream",
          "name": "stdout",
          "text": [
            "Your Streamlit public URL: NgrokTunnel: \"https://brimless-constance-toilsome.ngrok-free.dev\" -> \"http://localhost:8501\"\n"
          ]
        }
      ]
    }
  ],
  "metadata": {
    "kernelspec": {
      "display_name": "Python 3",
      "language": "python",
      "name": "python3"
    },
    "language_info": {
      "codemirror_mode": {
        "name": "ipython",
        "version": 3
      },
      "file_extension": ".py",
      "mimetype": "text/x-python",
      "name": "python",
      "nbconvert_exporter": "python",
      "pygments_lexer": "ipython3",
      "version": "3.10.10"
    },
    "colab": {
      "provenance": [],
      "name": "vaishnavi_kesiraju_(9_Oct_2025,_19_55_51).ipynb"
    }
  },
  "nbformat": 4,
  "nbformat_minor": 5
}